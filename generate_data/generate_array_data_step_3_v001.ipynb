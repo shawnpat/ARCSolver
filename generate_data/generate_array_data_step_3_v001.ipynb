{
 "cells": [
  {
   "cell_type": "code",
   "execution_count": 1,
   "metadata": {},
   "outputs": [
    {
     "name": "stderr",
     "output_type": "stream",
     "text": [
      "/Users/shawnmcinerney/Projects/ARCSolver/.venv/lib/python3.11/site-packages/tqdm/auto.py:21: TqdmWarning: IProgress not found. Please update jupyter and ipywidgets. See https://ipywidgets.readthedocs.io/en/stable/user_install.html\n",
      "  from .autonotebook import tqdm as notebook_tqdm\n"
     ]
    }
   ],
   "source": [
    "import numpy as np\n",
    "import json\n",
    "from transformers import AutoTokenizer\n",
    "from random import randint"
   ]
  },
  {
   "cell_type": "code",
   "execution_count": 2,
   "metadata": {},
   "outputs": [],
   "source": [
    "class NumpyArrayEncoder(json.JSONEncoder):\n",
    "    def default(self, obj):\n",
    "        if isinstance(obj, np.ndarray):\n",
    "            return obj.tolist()\n",
    "        return json.JSONEncoder.default(self, obj)"
   ]
  },
  {
   "cell_type": "code",
   "execution_count": 3,
   "metadata": {},
   "outputs": [],
   "source": [
    "def check_zero_rows_cols(permuted_array, sub_grid_x_dim, sub_grid_y_dim):\n",
    "    reshaped_array = permuted_array.reshape((sub_grid_x_dim, sub_grid_y_dim))\n",
    "    return np.any(np.all(reshaped_array == 0, axis=0)) or np.any(\n",
    "        np.all(reshaped_array == 0, axis=1)\n",
    "    )"
   ]
  },
  {
   "cell_type": "code",
   "execution_count": 4,
   "metadata": {},
   "outputs": [],
   "source": [
    "# If num_prompts is 1, then we will print out the prompt. Otherwise, it will save a json file.\n",
    "num_prompts = 1000\n",
    "min_grid_dim = 8\n",
    "max_grid_dim = 12\n",
    "num_train_tasks = 3\n",
    "num_test_tasks = 1"
   ]
  },
  {
   "cell_type": "code",
   "execution_count": 5,
   "metadata": {},
   "outputs": [],
   "source": [
    "# Load the tokenizer\n",
    "tokenizer = AutoTokenizer.from_pretrained(\"mistralai/Mistral-7B-Instruct-v0.1\")"
   ]
  },
  {
   "cell_type": "code",
   "execution_count": 6,
   "metadata": {},
   "outputs": [
    {
     "name": "stdout",
     "output_type": "stream",
     "text": [
      "Generating prompt 0\n",
      "Generating prompt 100\n",
      "Generating prompt 200\n",
      "Generating prompt 300\n",
      "Generating prompt 400\n",
      "Generating prompt 500\n",
      "Generating prompt 600\n",
      "Generating prompt 700\n",
      "Generating prompt 800\n",
      "Generating prompt 900\n",
      "\n",
      "Max Token Length: 2438\n"
     ]
    }
   ],
   "source": [
    "import generate_prompts as gp\n",
    "\n",
    "json_file = []\n",
    "max_token_length = 0\n",
    "for i in range(num_prompts):\n",
    "    if i % 100 == 0:\n",
    "        print(f\"Generating prompt {i}\")\n",
    "    random_puzzle_type = randint(0, 6)\n",
    "    if random_puzzle_type == 0:\n",
    "        instruction, output, token_length = gp.create_move_obj_puzzle_prompt(min_grid_dim, \n",
    "                                                                             max_grid_dim, \n",
    "                                                                             num_train_tasks,\n",
    "                                                                             num_test_tasks,\n",
    "                                                                             tokenizer)\n",
    "    elif random_puzzle_type == 1:\n",
    "        instruction, output, token_length = gp.create_rotate_obj_puzzle_prompt(min_grid_dim, \n",
    "                                                                             max_grid_dim, \n",
    "                                                                             num_train_tasks,\n",
    "                                                                             num_test_tasks,\n",
    "                                                                             tokenizer)\n",
    "    elif random_puzzle_type == 2:\n",
    "        instruction, output, token_length = gp.create_mirrored_obj_puzzle_prompt(min_grid_dim, \n",
    "                                                                             max_grid_dim, \n",
    "                                                                             num_train_tasks,\n",
    "                                                                             num_test_tasks,\n",
    "                                                                             tokenizer)\n",
    "    elif random_puzzle_type == 3:\n",
    "        instruction, output, token_length = gp.create_scaled_obj_puzzle_prompt(min_grid_dim, \n",
    "                                                                             max_grid_dim, \n",
    "                                                                             num_train_tasks,\n",
    "                                                                             num_test_tasks,\n",
    "                                                                             tokenizer)\n",
    "    elif random_puzzle_type == 4:\n",
    "        instruction, output, token_length = gp.create_swapped_color_grids_prompt(min_grid_dim, \n",
    "                                                                             max_grid_dim, \n",
    "                                                                             num_train_tasks,\n",
    "                                                                             num_test_tasks,\n",
    "                                                                             tokenizer)\n",
    "    elif random_puzzle_type == 5:\n",
    "        instruction, output, token_length = gp.create_same_shape_grids_prompt(min_grid_dim, \n",
    "                                                                             max_grid_dim, \n",
    "                                                                             num_train_tasks,\n",
    "                                                                             num_test_tasks,\n",
    "                                                                             tokenizer)\n",
    "    elif random_puzzle_type == 6:\n",
    "        instruction, output, token_length = gp.create_fill_pattern_holes_grids_prompt(min_grid_dim, \n",
    "                                                                             max_grid_dim, \n",
    "                                                                             num_train_tasks,\n",
    "                                                                             num_test_tasks,\n",
    "                                                                             tokenizer)\n",
    "        \n",
    "    if token_length > max_token_length:\n",
    "        max_token_length = token_length\n",
    "\n",
    "    json_file.append({\"instruction\": instruction, \"output\": output})\n",
    "\n",
    "    if num_prompts == 1:\n",
    "        print(\"Instruction:\")\n",
    "        print(instruction)\n",
    "        print(\"\\nOutput:\")\n",
    "        print(output)\n",
    "\n",
    "if num_prompts > 1:\n",
    "    json_string = json.dumps(json_file, cls=NumpyArrayEncoder)\n",
    "    base_file_name = \"../data/ARCSolver_core_puzzles_\" + str(num_prompts)\n",
    "    filename = base_file_name + \".json\"\n",
    "    filepath = filename\n",
    "    with open(filepath, \"w\") as outfile:\n",
    "        outfile.write(json_string)\n",
    "\n",
    "print(f\"\\nDone. Max Token Length: {max_token_length}\")"
   ]
  }
 ],
 "metadata": {
  "kernelspec": {
   "display_name": ".venv",
   "language": "python",
   "name": "python3"
  },
  "language_info": {
   "codemirror_mode": {
    "name": "ipython",
    "version": 3
   },
   "file_extension": ".py",
   "mimetype": "text/x-python",
   "name": "python",
   "nbconvert_exporter": "python",
   "pygments_lexer": "ipython3",
   "version": "3.11.6"
  }
 },
 "nbformat": 4,
 "nbformat_minor": 2
}
